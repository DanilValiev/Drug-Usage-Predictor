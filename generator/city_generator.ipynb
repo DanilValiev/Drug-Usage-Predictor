{
 "metadata": {
  "language_info": {
   "codemirror_mode": {
    "name": "ipython",
    "version": 3
   },
   "file_extension": ".py",
   "mimetype": "text/x-python",
   "name": "python",
   "nbconvert_exporter": "python",
   "pygments_lexer": "ipython3",
   "version": "3.7.6-final"
  },
  "orig_nbformat": 2,
  "kernelspec": {
   "name": "python3",
   "display_name": "Python 3"
  }
 },
 "nbformat": 4,
 "nbformat_minor": 2,
 "cells": [
  {
   "cell_type": "code",
   "execution_count": 1,
   "metadata": {},
   "outputs": [],
   "source": [
    "import csv\n",
    "import json\n",
    "import pandas as pd\n",
    "import os\n",
    "import time\n",
    "import numpy as np\n",
    "import io\n",
    "from typing import Type, Optional\n",
    "\n",
    "from sklearn.linear_model import LogisticRegression\n",
    "from sklearn.model_selection import train_test_split\n",
    "from sklearn.decomposition import PCA\n",
    "from sklearn.metrics import precision_score\n",
    "start_time = time.time()\n",
    "\n",
    "import pandas_read_xml as pdx"
   ]
  },
  {
   "cell_type": "code",
   "execution_count": 2,
   "metadata": {},
   "outputs": [
    {
     "output_type": "error",
     "ename": "KeyboardInterrupt",
     "evalue": "",
     "traceback": [
      "\u001b[0;31m---------------------------------------------------------------------------\u001b[0m",
      "\u001b[0;31mKeyboardInterrupt\u001b[0m                         Traceback (most recent call last)",
      "\u001b[0;32m<ipython-input-2-9631be88f633>\u001b[0m in \u001b[0;36m<module>\u001b[0;34m\u001b[0m\n\u001b[0;32m----> 1\u001b[0;31m \u001b[0mdf\u001b[0m \u001b[0;34m=\u001b[0m \u001b[0mpdx\u001b[0m\u001b[0;34m.\u001b[0m\u001b[0mread_xml\u001b[0m\u001b[0;34m(\u001b[0m\u001b[0;34m'j_data/map.xml'\u001b[0m\u001b[0;34m)\u001b[0m\u001b[0;34m\u001b[0m\u001b[0;34m\u001b[0m\u001b[0m\n\u001b[0m",
      "\u001b[0;32m/usr/local/lib/python3.7/site-packages/pandas_read_xml.py\u001b[0m in \u001b[0;36mread_xml\u001b[0;34m(path_or_xml, root_key_list, transpose, encoding)\u001b[0m\n\u001b[1;32m    104\u001b[0m                     \u001b[0;32mreturn\u001b[0m \u001b[0mread_xml_files_in_double_zip_as_dataframe\u001b[0m\u001b[0;34m(\u001b[0m\u001b[0mzf\u001b[0m\u001b[0;34m,\u001b[0m \u001b[0mroot_key_list\u001b[0m\u001b[0;34m,\u001b[0m \u001b[0mtranspose\u001b[0m\u001b[0;34m=\u001b[0m\u001b[0mtranspose\u001b[0m\u001b[0;34m)\u001b[0m\u001b[0;34m\u001b[0m\u001b[0;34m\u001b[0m\u001b[0m\n\u001b[1;32m    105\u001b[0m         \u001b[0;32melif\u001b[0m \u001b[0mpath_or_xml\u001b[0m\u001b[0;34m.\u001b[0m\u001b[0mendswith\u001b[0m\u001b[0;34m(\u001b[0m\u001b[0;34m'.xml'\u001b[0m\u001b[0;34m)\u001b[0m\u001b[0;34m:\u001b[0m\u001b[0;34m\u001b[0m\u001b[0;34m\u001b[0m\u001b[0m\n\u001b[0;32m--> 106\u001b[0;31m             \u001b[0;32mreturn\u001b[0m \u001b[0mread_xml_as_dataframe\u001b[0m\u001b[0;34m(\u001b[0m\u001b[0mread_xml_from_path\u001b[0m\u001b[0;34m(\u001b[0m\u001b[0mpath_or_xml\u001b[0m\u001b[0;34m,\u001b[0m \u001b[0mencoding\u001b[0m\u001b[0;34m=\u001b[0m\u001b[0mencoding\u001b[0m\u001b[0;34m)\u001b[0m\u001b[0;34m,\u001b[0m \u001b[0mroot_key_list\u001b[0m\u001b[0;34m)\u001b[0m\u001b[0;34m\u001b[0m\u001b[0;34m\u001b[0m\u001b[0m\n\u001b[0m\u001b[1;32m    107\u001b[0m         \u001b[0;32melse\u001b[0m\u001b[0;34m:\u001b[0m\u001b[0;34m\u001b[0m\u001b[0;34m\u001b[0m\u001b[0m\n\u001b[1;32m    108\u001b[0m             \u001b[0;32mreturn\u001b[0m \u001b[0mread_xml_as_dataframe\u001b[0m\u001b[0;34m(\u001b[0m\u001b[0mpath_or_xml\u001b[0m\u001b[0;34m,\u001b[0m \u001b[0mroot_key_list\u001b[0m\u001b[0;34m)\u001b[0m\u001b[0;34m\u001b[0m\u001b[0;34m\u001b[0m\u001b[0m\n",
      "\u001b[0;32m/usr/local/lib/python3.7/site-packages/pandas_read_xml.py\u001b[0m in \u001b[0;36mread_xml_as_dataframe\u001b[0;34m(xml, root_key_list, transpose)\u001b[0m\n\u001b[1;32m     32\u001b[0m         \u001b[0;32mreturn\u001b[0m \u001b[0mpd\u001b[0m\u001b[0;34m.\u001b[0m\u001b[0mDataFrame\u001b[0m\u001b[0;34m(\u001b[0m\u001b[0mget_to_root_in_dict\u001b[0m\u001b[0;34m(\u001b[0m\u001b[0mxmltodict\u001b[0m\u001b[0;34m.\u001b[0m\u001b[0mparse\u001b[0m\u001b[0;34m(\u001b[0m\u001b[0mxml\u001b[0m\u001b[0;34m)\u001b[0m\u001b[0;34m,\u001b[0m \u001b[0mroot_key_list\u001b[0m\u001b[0;34m)\u001b[0m\u001b[0;34m)\u001b[0m\u001b[0;34m.\u001b[0m\u001b[0mT\u001b[0m\u001b[0;34m\u001b[0m\u001b[0;34m\u001b[0m\u001b[0m\n\u001b[1;32m     33\u001b[0m     \u001b[0;32melse\u001b[0m\u001b[0;34m:\u001b[0m\u001b[0;34m\u001b[0m\u001b[0;34m\u001b[0m\u001b[0m\n\u001b[0;32m---> 34\u001b[0;31m         \u001b[0;32mreturn\u001b[0m \u001b[0mpd\u001b[0m\u001b[0;34m.\u001b[0m\u001b[0mDataFrame\u001b[0m\u001b[0;34m(\u001b[0m\u001b[0mget_to_root_in_dict\u001b[0m\u001b[0;34m(\u001b[0m\u001b[0mxmltodict\u001b[0m\u001b[0;34m.\u001b[0m\u001b[0mparse\u001b[0m\u001b[0;34m(\u001b[0m\u001b[0mxml\u001b[0m\u001b[0;34m)\u001b[0m\u001b[0;34m,\u001b[0m \u001b[0mroot_key_list\u001b[0m\u001b[0;34m)\u001b[0m\u001b[0;34m)\u001b[0m\u001b[0;34m\u001b[0m\u001b[0;34m\u001b[0m\u001b[0m\n\u001b[0m\u001b[1;32m     35\u001b[0m \u001b[0;34m\u001b[0m\u001b[0m\n\u001b[1;32m     36\u001b[0m \u001b[0;34m\u001b[0m\u001b[0m\n",
      "\u001b[0;32m/usr/local/lib/python3.7/site-packages/xmltodict.py\u001b[0m in \u001b[0;36mparse\u001b[0;34m(xml_input, encoding, expat, process_namespaces, namespace_separator, disable_entities, **kwargs)\u001b[0m\n\u001b[1;32m    325\u001b[0m         \u001b[0mparser\u001b[0m\u001b[0;34m.\u001b[0m\u001b[0mParseFile\u001b[0m\u001b[0;34m(\u001b[0m\u001b[0mxml_input\u001b[0m\u001b[0;34m)\u001b[0m\u001b[0;34m\u001b[0m\u001b[0;34m\u001b[0m\u001b[0m\n\u001b[1;32m    326\u001b[0m     \u001b[0;32melse\u001b[0m\u001b[0;34m:\u001b[0m\u001b[0;34m\u001b[0m\u001b[0;34m\u001b[0m\u001b[0m\n\u001b[0;32m--> 327\u001b[0;31m         \u001b[0mparser\u001b[0m\u001b[0;34m.\u001b[0m\u001b[0mParse\u001b[0m\u001b[0;34m(\u001b[0m\u001b[0mxml_input\u001b[0m\u001b[0;34m,\u001b[0m \u001b[0;32mTrue\u001b[0m\u001b[0;34m)\u001b[0m\u001b[0;34m\u001b[0m\u001b[0;34m\u001b[0m\u001b[0m\n\u001b[0m\u001b[1;32m    328\u001b[0m     \u001b[0;32mreturn\u001b[0m \u001b[0mhandler\u001b[0m\u001b[0;34m.\u001b[0m\u001b[0mitem\u001b[0m\u001b[0;34m\u001b[0m\u001b[0;34m\u001b[0m\u001b[0m\n\u001b[1;32m    329\u001b[0m \u001b[0;34m\u001b[0m\u001b[0m\n",
      "\u001b[0;32m/private/tmp/python-20191230-3598-v8don5/Python-3.7.6/Modules/pyexpat.c\u001b[0m in \u001b[0;36mStartElement\u001b[0;34m()\u001b[0m\n",
      "\u001b[0;32m/usr/local/lib/python3.7/site-packages/xmltodict.py\u001b[0m in \u001b[0;36mstartElement\u001b[0;34m(self, full_name, attrs)\u001b[0m\n\u001b[1;32m     93\u001b[0m     \u001b[0;32mdef\u001b[0m \u001b[0mstartElement\u001b[0m\u001b[0;34m(\u001b[0m\u001b[0mself\u001b[0m\u001b[0;34m,\u001b[0m \u001b[0mfull_name\u001b[0m\u001b[0;34m,\u001b[0m \u001b[0mattrs\u001b[0m\u001b[0;34m)\u001b[0m\u001b[0;34m:\u001b[0m\u001b[0;34m\u001b[0m\u001b[0;34m\u001b[0m\u001b[0m\n\u001b[1;32m     94\u001b[0m         \u001b[0mname\u001b[0m \u001b[0;34m=\u001b[0m \u001b[0mself\u001b[0m\u001b[0;34m.\u001b[0m\u001b[0m_build_name\u001b[0m\u001b[0;34m(\u001b[0m\u001b[0mfull_name\u001b[0m\u001b[0;34m)\u001b[0m\u001b[0;34m\u001b[0m\u001b[0;34m\u001b[0m\u001b[0m\n\u001b[0;32m---> 95\u001b[0;31m         \u001b[0mattrs\u001b[0m \u001b[0;34m=\u001b[0m \u001b[0mself\u001b[0m\u001b[0;34m.\u001b[0m\u001b[0m_attrs_to_dict\u001b[0m\u001b[0;34m(\u001b[0m\u001b[0mattrs\u001b[0m\u001b[0;34m)\u001b[0m\u001b[0;34m\u001b[0m\u001b[0;34m\u001b[0m\u001b[0m\n\u001b[0m\u001b[1;32m     96\u001b[0m         \u001b[0;32mif\u001b[0m \u001b[0mattrs\u001b[0m \u001b[0;32mand\u001b[0m \u001b[0mself\u001b[0m\u001b[0;34m.\u001b[0m\u001b[0mnamespace_declarations\u001b[0m\u001b[0;34m:\u001b[0m\u001b[0;34m\u001b[0m\u001b[0;34m\u001b[0m\u001b[0m\n\u001b[1;32m     97\u001b[0m             \u001b[0mattrs\u001b[0m\u001b[0;34m[\u001b[0m\u001b[0;34m'xmlns'\u001b[0m\u001b[0;34m]\u001b[0m \u001b[0;34m=\u001b[0m \u001b[0mself\u001b[0m\u001b[0;34m.\u001b[0m\u001b[0mnamespace_declarations\u001b[0m\u001b[0;34m\u001b[0m\u001b[0;34m\u001b[0m\u001b[0m\n",
      "\u001b[0;32m/usr/local/lib/python3.7/site-packages/xmltodict.py\u001b[0m in \u001b[0;36m_attrs_to_dict\u001b[0;34m(self, attrs)\u001b[0m\n\u001b[1;32m     86\u001b[0m         \u001b[0;32mif\u001b[0m \u001b[0misinstance\u001b[0m\u001b[0;34m(\u001b[0m\u001b[0mattrs\u001b[0m\u001b[0;34m,\u001b[0m \u001b[0mdict\u001b[0m\u001b[0;34m)\u001b[0m\u001b[0;34m:\u001b[0m\u001b[0;34m\u001b[0m\u001b[0;34m\u001b[0m\u001b[0m\n\u001b[1;32m     87\u001b[0m             \u001b[0;32mreturn\u001b[0m \u001b[0mattrs\u001b[0m\u001b[0;34m\u001b[0m\u001b[0;34m\u001b[0m\u001b[0m\n\u001b[0;32m---> 88\u001b[0;31m         \u001b[0;32mreturn\u001b[0m \u001b[0mself\u001b[0m\u001b[0;34m.\u001b[0m\u001b[0mdict_constructor\u001b[0m\u001b[0;34m(\u001b[0m\u001b[0mzip\u001b[0m\u001b[0;34m(\u001b[0m\u001b[0mattrs\u001b[0m\u001b[0;34m[\u001b[0m\u001b[0;36m0\u001b[0m\u001b[0;34m:\u001b[0m\u001b[0;34m:\u001b[0m\u001b[0;36m2\u001b[0m\u001b[0;34m]\u001b[0m\u001b[0;34m,\u001b[0m \u001b[0mattrs\u001b[0m\u001b[0;34m[\u001b[0m\u001b[0;36m1\u001b[0m\u001b[0;34m:\u001b[0m\u001b[0;34m:\u001b[0m\u001b[0;36m2\u001b[0m\u001b[0;34m]\u001b[0m\u001b[0;34m)\u001b[0m\u001b[0;34m)\u001b[0m\u001b[0;34m\u001b[0m\u001b[0;34m\u001b[0m\u001b[0m\n\u001b[0m\u001b[1;32m     89\u001b[0m \u001b[0;34m\u001b[0m\u001b[0m\n\u001b[1;32m     90\u001b[0m     \u001b[0;32mdef\u001b[0m \u001b[0mstartNamespaceDecl\u001b[0m\u001b[0;34m(\u001b[0m\u001b[0mself\u001b[0m\u001b[0;34m,\u001b[0m \u001b[0mprefix\u001b[0m\u001b[0;34m,\u001b[0m \u001b[0muri\u001b[0m\u001b[0;34m)\u001b[0m\u001b[0;34m:\u001b[0m\u001b[0;34m\u001b[0m\u001b[0;34m\u001b[0m\u001b[0m\n",
      "\u001b[0;31mKeyboardInterrupt\u001b[0m: "
     ]
    }
   ],
   "source": [
    "df = pdx.read_xml('j_data/map.xml')"
   ]
  },
  {
   "cell_type": "code",
   "execution_count": null,
   "metadata": {},
   "outputs": [],
   "source": []
  },
  {
   "cell_type": "code",
   "execution_count": null,
   "metadata": {},
   "outputs": [],
   "source": []
  },
  {
   "cell_type": "code",
   "execution_count": null,
   "metadata": {},
   "outputs": [],
   "source": []
  },
  {
   "cell_type": "code",
   "execution_count": null,
   "metadata": {},
   "outputs": [],
   "source": []
  },
  {
   "cell_type": "code",
   "execution_count": 8,
   "metadata": {},
   "outputs": [],
   "source": [
    "import xml.etree.ElementTree as ET\n",
    "tree = ET.parse('j_data/map.xml')\n",
    "root = tree.getroot()"
   ]
  },
  {
   "cell_type": "code",
   "execution_count": 9,
   "metadata": {},
   "outputs": [],
   "source": [
    "work = root.findall('way')"
   ]
  },
  {
   "cell_type": "code",
   "execution_count": 10,
   "metadata": {},
   "outputs": [],
   "source": [
    "list_of_streets = []\n",
    "list_of_housenumbers = []"
   ]
  },
  {
   "cell_type": "code",
   "execution_count": 13,
   "metadata": {},
   "outputs": [
    {
     "output_type": "execute_result",
     "data": {
      "text/plain": [
       "{'k': 'amenity', 'v': 'fast_food'}"
      ]
     },
     "metadata": {},
     "execution_count": 13
    }
   ],
   "source": [
    "work[100].findall('tag')[4].attrib"
   ]
  },
  {
   "cell_type": "code",
   "execution_count": 24,
   "metadata": {},
   "outputs": [],
   "source": [
    "dict = work[100].findall('tag')[0].attrib"
   ]
  },
  {
   "cell_type": "code",
   "execution_count": 27,
   "metadata": {},
   "outputs": [],
   "source": [
    "compare1 = work[100].findall('tag')[1].attrib['k']\n",
    "compare2 = work[100].findall('tag')[3].attrib['k']"
   ]
  },
  {
   "cell_type": "code",
   "execution_count": 28,
   "metadata": {},
   "outputs": [
    {
     "output_type": "stream",
     "name": "stdout",
     "text": [
      "1693\n"
     ]
    }
   ],
   "source": [
    "i = 0\n",
    "fl = 1\n",
    "counter2 = 0\n",
    "counter = 0\n",
    "while i < 141027:\n",
    "    tags = work[i].findall('tag')\n",
    "    if len(tags) > 0:\n",
    "        if tags[0].attrib == dict:\n",
    "            if len(tags) > 3:\n",
    "                if tags[1].attrib['k'] == compare1 and tags[3].attrib['k'] == compare2 and (tags[4].attrib['v'] == 'apartments' or tags[4].attrib['v'] == 'dormitory' or tags[4].attrib['v'] == 'house' or tags[4].attrib['v'] == 'residental' or tags[4].attrib['v'] == 'yes'):\n",
    "                    counter2 += 1\n",
    "                    list_of_streets.append(tags[3].attrib['v'])\n",
    "                    list_of_housenumbers.append(tags[1].attrib['v'])\n",
    "            counter += 1\n",
    "    i += 1\n",
    "print(len(list_of_streets))"
   ]
  },
  {
   "cell_type": "code",
   "execution_count": 29,
   "metadata": {},
   "outputs": [],
   "source": [
    "house_capacity = np.zeros(1693)\n",
    "i = 0\n",
    "while i < 1693\n",
    "family_capacity = np.zeros(100000)"
   ]
  },
  {
   "cell_type": "code",
   "execution_count": 31,
   "metadata": {},
   "outputs": [],
   "source": [
    "import names"
   ]
  },
  {
   "cell_type": "code",
   "execution_count": 79,
   "metadata": {},
   "outputs": [
    {
     "output_type": "stream",
     "name": "stdout",
     "text": [
      "1000\n",
      "2000\n",
      "3000\n",
      "4000\n",
      "5000\n",
      "6000\n",
      "7000\n",
      "8000\n",
      "9000\n",
      "10000\n",
      "11000\n",
      "12000\n",
      "13000\n",
      "14000\n",
      "15000\n",
      "16000\n",
      "17000\n",
      "18000\n",
      "19000\n",
      "20000\n",
      "21000\n",
      "22000\n",
      "23000\n",
      "24000\n"
     ]
    }
   ],
   "source": [
    "house_capacity = np.zeros(1693)\n",
    "i = 0\n",
    "while i < 1693:\n",
    "    house_capacity[i] += 1\n",
    "    i += 1\n",
    "family_capacity = np.zeros(100000)\n",
    "humanDf = pd.DataFrame()\n",
    "family_num = 0\n",
    "i = 0\n",
    "j = 0\n",
    "while i < 24000:\n",
    "    #make family\n",
    "    family_len = np.random.randint(1, 6)\n",
    "    family_participant = 0\n",
    "    houseNum = np.random.randint(0, 1693)\n",
    "    while house_capacity[houseNum] > 150:\n",
    "        houseNum = np.random.randint(0, 1693)\n",
    "    while family_participant < family_len:\n",
    "        if family_participant < 2:\n",
    "            humanDf.at[i, \"name\"] = names.get_full_name()\n",
    "            humanDf.at[i, \"adress\"] = list_of_streets[houseNum] + ' ' + list_of_housenumbers[houseNum]\n",
    "            humanDf.at[i, \"flat\"] = house_capacity[houseNum]\n",
    "            if family_participant == 1:\n",
    "                #will there be a second parent?\n",
    "                if np.random.randint(0, 10) >= 2:\n",
    "                    if np.random.randint(0, 2) == 0:\n",
    "                        humanDf.at[i, \"gender\"] = 0\n",
    "                    else:\n",
    "                        humanDf.at[i, \"gender\"] = 1\n",
    "                else:\n",
    "                    humanDf.at[i, \"gender\"] = -1\n",
    "            \n",
    "            else:\n",
    "                if np.random.randint(0, 2) == 0:\n",
    "                    humanDf.at[i, \"gender\"] = 0\n",
    "                else:\n",
    "                    humanDf.at[i, \"gender\"] = 1\n",
    "\n",
    "            humanDf.at[i, \"age\"] = np.random.randint(24, 61)\n",
    "            if i < 4560:\n",
    "                humanDf.at[i, \"income\"] = np.random.randint(0, 10000)\n",
    "            elif i >= 4560 and i < 7200:\n",
    "                humanDf.at[i, \"income\"] = np.random.randint(10001, 15000)\n",
    "            elif i >= 7200 and i < 9840:\n",
    "                humanDf.at[i, \"income\"] = np.random.randint(15001, 20000)\n",
    "            elif i >= 9840 and i < 14640:\n",
    "                humanDf.at[i, \"income\"] = np.random.randint(20001, 30000)\n",
    "            elif i >= 14640 and i < 18600:\n",
    "                humanDf.at[i, \"income\"] = np.random.randint(30001, 40000)\n",
    "            elif i >= 18600 and i < 20880:\n",
    "                humanDf.at[i, \"income\"] = np.random.randint(40001, 50000)\n",
    "            elif i >= 20880 and i < 22080:\n",
    "                humanDf.at[i, \"income\"] = np.random.randint(50001, 60000)\n",
    "            elif i >= 22080 and i < 22800:\n",
    "                humanDf.at[i, \"income\"] = np.random.randint(60001, 70000)\n",
    "            elif i >= 22800 and i < 23160:\n",
    "                humanDf.at[i, \"income\"] = np.random.randint(70001, 80000)\n",
    "            elif i >= 23160 and i < 23400:\n",
    "                humanDf.at[i, \"income\"] = np.random.randint(80001, 90000)\n",
    "            elif i >= 23400 and i < 23520:\n",
    "                humanDf.at[i, \"income\"] = np.random.randint(90001, 100000)\n",
    "            elif i >= 23520 and i < 23880:\n",
    "                humanDf.at[i, \"income\"] = np.random.randint(100001, 150000)\n",
    "            elif i >= 23880 and i <= 24000:\n",
    "                humanDf.at[i, \"income\"] = np.random.randint(150001, 1000000)\n",
    "            else:\n",
    "                print(\"WTF!\", i)\n",
    "\n",
    "            \n",
    "            humanDf.at[i, \"hobby\"] = np.random.randint(0, 2)\n",
    "            humanDf.at[i, \"family_id\"] = family_num\n",
    "        \n",
    "            family_participant += 1\n",
    "            i += 1\n",
    "            if i % 1000 == 0:\n",
    "                print(i)\n",
    "        else:\n",
    "            humanDf.at[i, \"name\"] = names.get_full_name()\n",
    "            humanDf.at[i, \"adress\"] = list_of_streets[houseNum] + ' ' + list_of_housenumbers[houseNum]\n",
    "            humanDf.at[i, \"flat\"] = house_capacity[houseNum]\n",
    "            if np.random.randint(0, 2) == 0:\n",
    "                humanDf.at[i, \"gender\"] = 0\n",
    "            else:\n",
    "                humanDf.at[i, \"gender\"] = 1\n",
    "            humanDf.at[i, \"age\"] = np.random.randint(0, 24)\n",
    "            if humanDf.loc[i][\"age\"] > 16:\n",
    "                humanDf.at[i, \"income\"] = np.random.randint(0, 40000)\n",
    "            else:\n",
    "                humanDf.at[i, \"income\"] = 0\n",
    "            humanDf.at[i, \"hobby\"] = np.random.randint(0, 2)\n",
    "            humanDf.at[i, \"family_id\"] = family_num\n",
    "\n",
    "            if humanDf.loc[i - family_participant]['gender'] == 1:\n",
    "                humanDf.at[i, \"mother\"] = i - family_participant\n",
    "                if humanDf.loc[i - family_participant + 1]['gender'] != -1:\n",
    "                    humanDf.at[i, \"father\"] = i - family_participant + 1\n",
    "            else:\n",
    "                humanDf.at[i, \"father\"] = i - family_participant\n",
    "                if humanDf.loc[i - family_participant + 1]['gender'] != -1:\n",
    "                    humanDf.at[i, \"mother\"] = i - family_participant + 1\n",
    "        \n",
    "            family_participant += 1\n",
    "            i += 1\n",
    "            if i % 1000 == 0:\n",
    "                print(i)\n",
    "    house_capacity[houseNum] += 1\n",
    "    family_num += 1"
   ]
  },
  {
   "cell_type": "code",
   "execution_count": 80,
   "metadata": {},
   "outputs": [],
   "source": [
    "humanDf.to_csv(\"j_data/users.csv\")"
   ]
  },
  {
   "cell_type": "code",
   "execution_count": 62,
   "metadata": {},
   "outputs": [],
   "source": [
    "cols = humanDf.columns.tolist()"
   ]
  },
  {
   "cell_type": "code",
   "execution_count": 63,
   "metadata": {},
   "outputs": [
    {
     "output_type": "execute_result",
     "data": {
      "text/plain": [
       "['name',\n",
       " 'adress',\n",
       " 'flat',\n",
       " 'gender',\n",
       " 'age',\n",
       " 'income',\n",
       " 'hobby',\n",
       " 'family_id',\n",
       " 'mother',\n",
       " 'father']"
      ]
     },
     "metadata": {},
     "execution_count": 63
    }
   ],
   "source": [
    "cols"
   ]
  },
  {
   "cell_type": "code",
   "execution_count": 67,
   "metadata": {},
   "outputs": [],
   "source": [
    "check = ['name'] + ['adress'] + ['flat'] + ['income'] + ['age'] + ['father'] + ['mother'] + ['job'] + ['hobby'] + ['family_id'] + ['gender']"
   ]
  },
  {
   "cell_type": "code",
   "execution_count": 73,
   "metadata": {},
   "outputs": [
    {
     "output_type": "execute_result",
     "data": {
      "text/plain": [
       "(24003, 11)"
      ]
     },
     "metadata": {},
     "execution_count": 73
    }
   ],
   "source": [
    "humanDf.shape"
   ]
  },
  {
   "cell_type": "code",
   "execution_count": 84,
   "metadata": {},
   "outputs": [],
   "source": [
    "testDf = humanDf.loc[humanDf['gender'] != -1]"
   ]
  },
  {
   "cell_type": "code",
   "execution_count": 96,
   "metadata": {},
   "outputs": [
    {
     "output_type": "execute_result",
     "data": {
      "text/plain": [
       "(22727, 11)"
      ]
     },
     "metadata": {},
     "execution_count": 96
    }
   ],
   "source": [
    "testDf.shape"
   ]
  },
  {
   "cell_type": "code",
   "execution_count": 68,
   "metadata": {},
   "outputs": [
    {
     "output_type": "execute_result",
     "data": {
      "text/plain": [
       "['name',\n",
       " 'adress',\n",
       " 'flat',\n",
       " 'income',\n",
       " 'age',\n",
       " 'father',\n",
       " 'mother',\n",
       " 'job',\n",
       " 'hobby',\n",
       " 'family_id',\n",
       " 'gender']"
      ]
     },
     "metadata": {},
     "execution_count": 68
    }
   ],
   "source": [
    "check"
   ]
  },
  {
   "cell_type": "code",
   "execution_count": 83,
   "metadata": {},
   "outputs": [],
   "source": [
    "humanDf['job'] = 0"
   ]
  },
  {
   "cell_type": "code",
   "execution_count": 105,
   "metadata": {},
   "outputs": [],
   "source": [
    "df = testDf[check]"
   ]
  },
  {
   "cell_type": "code",
   "execution_count": 106,
   "metadata": {},
   "outputs": [],
   "source": [
    "df['mother'] = df['mother'].replace(np.nan, -1)\n",
    "df['father'] = df['father'].replace(np.nan, -1)"
   ]
  },
  {
   "cell_type": "code",
   "execution_count": 110,
   "metadata": {},
   "outputs": [],
   "source": [
    "df['rating'] = 0"
   ]
  },
  {
   "cell_type": "code",
   "execution_count": 109,
   "metadata": {},
   "outputs": [
    {
     "output_type": "execute_result",
     "data": {
      "text/plain": [
       "                name            adress  flat  income   age  father  mother  \\\n",
       "0    Annette Cantley  Takamaanrinne 14   1.0  4877.0  35.0    -1.0    -1.0   \n",
       "1     Michael Hawley  Takamaanrinne 14   1.0  5274.0  47.0    -1.0    -1.0   \n",
       "2     Brandon Strawn  Takamaanrinne 14   1.0     0.0   2.0     0.0     1.0   \n",
       "3  Douglas Mackillop  Takamaanrinne 14   1.0     0.0  13.0     0.0     1.0   \n",
       "4     Robert Stevens  Takamaanrinne 14   1.0     0.0  10.0     0.0     1.0   \n",
       "\n",
       "   job  hobby  family_id  gender  \n",
       "0    0    1.0        0.0     0.0  \n",
       "1    0    0.0        0.0     1.0  \n",
       "2    0    0.0        0.0     1.0  \n",
       "3    0    0.0        0.0     0.0  \n",
       "4    0    1.0        0.0     0.0  "
      ],
      "text/html": "<div>\n<style scoped>\n    .dataframe tbody tr th:only-of-type {\n        vertical-align: middle;\n    }\n\n    .dataframe tbody tr th {\n        vertical-align: top;\n    }\n\n    .dataframe thead th {\n        text-align: right;\n    }\n</style>\n<table border=\"1\" class=\"dataframe\">\n  <thead>\n    <tr style=\"text-align: right;\">\n      <th></th>\n      <th>name</th>\n      <th>adress</th>\n      <th>flat</th>\n      <th>income</th>\n      <th>age</th>\n      <th>father</th>\n      <th>mother</th>\n      <th>job</th>\n      <th>hobby</th>\n      <th>family_id</th>\n      <th>gender</th>\n    </tr>\n  </thead>\n  <tbody>\n    <tr>\n      <th>0</th>\n      <td>Annette Cantley</td>\n      <td>Takamaanrinne 14</td>\n      <td>1.0</td>\n      <td>4877.0</td>\n      <td>35.0</td>\n      <td>-1.0</td>\n      <td>-1.0</td>\n      <td>0</td>\n      <td>1.0</td>\n      <td>0.0</td>\n      <td>0.0</td>\n    </tr>\n    <tr>\n      <th>1</th>\n      <td>Michael Hawley</td>\n      <td>Takamaanrinne 14</td>\n      <td>1.0</td>\n      <td>5274.0</td>\n      <td>47.0</td>\n      <td>-1.0</td>\n      <td>-1.0</td>\n      <td>0</td>\n      <td>0.0</td>\n      <td>0.0</td>\n      <td>1.0</td>\n    </tr>\n    <tr>\n      <th>2</th>\n      <td>Brandon Strawn</td>\n      <td>Takamaanrinne 14</td>\n      <td>1.0</td>\n      <td>0.0</td>\n      <td>2.0</td>\n      <td>0.0</td>\n      <td>1.0</td>\n      <td>0</td>\n      <td>0.0</td>\n      <td>0.0</td>\n      <td>1.0</td>\n    </tr>\n    <tr>\n      <th>3</th>\n      <td>Douglas Mackillop</td>\n      <td>Takamaanrinne 14</td>\n      <td>1.0</td>\n      <td>0.0</td>\n      <td>13.0</td>\n      <td>0.0</td>\n      <td>1.0</td>\n      <td>0</td>\n      <td>0.0</td>\n      <td>0.0</td>\n      <td>0.0</td>\n    </tr>\n    <tr>\n      <th>4</th>\n      <td>Robert Stevens</td>\n      <td>Takamaanrinne 14</td>\n      <td>1.0</td>\n      <td>0.0</td>\n      <td>10.0</td>\n      <td>0.0</td>\n      <td>1.0</td>\n      <td>0</td>\n      <td>1.0</td>\n      <td>0.0</td>\n      <td>0.0</td>\n    </tr>\n  </tbody>\n</table>\n</div>"
     },
     "metadata": {},
     "execution_count": 109
    }
   ],
   "source": [
    "df.head()"
   ]
  },
  {
   "cell_type": "code",
   "execution_count": 111,
   "metadata": {},
   "outputs": [],
   "source": [
    "df.to_csv(\"j_data/users.csv\")"
   ]
  },
  {
   "cell_type": "code",
   "execution_count": 94,
   "metadata": {},
   "outputs": [],
   "source": [
    "df"
   ]
  },
  {
   "cell_type": "code",
   "execution_count": 58,
   "metadata": {},
   "outputs": [
    {
     "output_type": "execute_result",
     "data": {
      "text/plain": [
       "Index(['name', 'adress', 'flat', 'income', 'age', 'father', 'mother', 'job',\n",
       "       'hobby', 'family_id', 'gender'],\n",
       "      dtype='object')"
      ]
     },
     "metadata": {},
     "execution_count": 58
    }
   ],
   "source": [
    "df.columns"
   ]
  }
 ]
}